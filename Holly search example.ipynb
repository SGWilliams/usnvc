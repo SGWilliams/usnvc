{
 "cells": [
  {
   "cell_type": "markdown",
   "metadata": {},
   "source": [
    "I'm trying to get identical query results from both interfaces. They don't exactly match but I can see why. Evidently, the iFrames setup parses the search string to handle upper/lower case differences as well as picking up parent items for display purposes. Here, I'm searching for \"Holly \" or \"holly \" in the Colloquial Name field and I'm getting 5 results (3 associations and 3 alliances). I'm also cutting the response down to just Database Code, Colloquial Name and Display Title for simplicity.\n",
    "\n",
    "I included both cases of holly since it appears that is what's happening (and should be) in the iFrames interface. I also had to include a trailing space to avoid picking up \"hollyleaf\"."
   ]
  },
  {
   "cell_type": "code",
   "execution_count": 4,
   "metadata": {
    "scrolled": false
   },
   "outputs": [
    {
     "data": {
      "text/plain": [
       "{u'total': 5,\n",
       " u'units': [{u'Identifiers': {u'Database Code': u'CEGL006376'},\n",
       "   u'Overview': {u'Colloquial Name': u'Maritime Holly Forest',\n",
       "    u'Display Title': u'CEGL006376 American Holly / Northern Bayberry Forest'},\n",
       "   u'uri': u'https://bis-skybristol.c9users.io/bis/api/v0.1/usnvc/units/792379e1-2aa7-441f-aefa-c9992a281bc6'},\n",
       "  {u'Identifiers': {u'Database Code': u'A2032'},\n",
       "   u'Overview': {u'Colloquial Name': u'Maritime Oak - Beech - Holly Forest',\n",
       "    u'Display Title': u'A2032 Black Oak - American Beech - American Holly Maritime Forest Alliance'},\n",
       "   u'uri': u'https://bis-skybristol.c9users.io/bis/api/v0.1/usnvc/units/74a62e7f-4070-4279-b348-160783790d8d'},\n",
       "  {u'Identifiers': {u'Database Code': u'A0872'},\n",
       "   u'Overview': {u'Colloquial Name': u'Desert-holly Scrub',\n",
       "    u'Display Title': u'A0872 Desert-holly Scrub Alliance'},\n",
       "   u'uri': u'https://bis-skybristol.c9users.io/bis/api/v0.1/usnvc/units/75513db1-be23-4d3a-a349-c2794afdb5a2'},\n",
       "  {u'Identifiers': {u'Database Code': u'CEGL006378'},\n",
       "   u'Overview': {u'Colloquial Name': u'North Atlantic Coastal Oak / Holly Forest',\n",
       "    u'Display Title': u'CEGL006378 Black Oak / American Holly Forest'},\n",
       "   u'uri': u'https://bis-skybristol.c9users.io/bis/api/v0.1/usnvc/units/974e130f-cfc4-4229-9f7d-95d8ee7c9d59'},\n",
       "  {u'Identifiers': {u'Database Code': u'CEGL006929'},\n",
       "   u'Overview': {u'Colloquial Name': u'Mixed Oak - Pine / Holly Woodland',\n",
       "    u'Display Title': u'CEGL006929 Southern Red Oak - Pitch Pine - Shortleaf Pine / American Holly Woodland'},\n",
       "   u'uri': u'https://bis-skybristol.c9users.io/bis/api/v0.1/usnvc/units/40b80fa5-d781-47a6-88b9-28deac6d7289'}]}"
      ]
     },
     "metadata": {},
     "output_type": "display_data"
    }
   ],
   "source": [
    "import requests\n",
    "from IPython.display import display\n",
    "display (requests.get(\"https://bis-skybristol.c9users.io/bis/api/v0.1/usnvc/units?q={%22Overview.Colloquial%20Name%22:{%22$regex%22:%22holly%20|Holly%20%22}}&fields={%22Identifiers.Database%20Code%22:1,%22Overview.Colloquial%20Name%22:1,%22Overview.Display%20Title%22:1}\").json())"
   ]
  },
  {
   "cell_type": "markdown",
   "metadata": {},
   "source": [
    "Here are the search results from the iFrames tool where 18 items are returned. It brings the 5 hits back with another 13 parent items to help build out the complete hierarchy.\n",
    "![Holly search results](img/Holly_search_results.png)\n",
    "So, it looks like it's querying correctly which you probably already knew. This has been helpful for me to start getting familiar with mongodb queries. I found that the field names were adequate to know what you were digging into."
   ]
  },
  {
   "cell_type": "code",
   "execution_count": null,
   "metadata": {
    "collapsed": true
   },
   "outputs": [],
   "source": []
  }
 ],
 "metadata": {
  "kernelspec": {
   "display_name": "Python 2",
   "language": "python",
   "name": "python2"
  },
  "language_info": {
   "codemirror_mode": {
    "name": "ipython",
    "version": 2
   },
   "file_extension": ".py",
   "mimetype": "text/x-python",
   "name": "python",
   "nbconvert_exporter": "python",
   "pygments_lexer": "ipython2",
   "version": "2.7.14"
  }
 },
 "nbformat": 4,
 "nbformat_minor": 2
}
